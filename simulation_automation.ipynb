{
 "cells": [
  {
   "cell_type": "code",
   "execution_count": 1,
   "metadata": {},
   "outputs": [],
   "source": [
    "import papermill as pm"
   ]
  },
  {
   "cell_type": "code",
   "execution_count": 3,
   "metadata": {},
   "outputs": [
    {
     "data": {
      "application/vnd.jupyter.widget-view+json": {
       "model_id": "ffddeeb3321a4c73a136307d86c40cd3",
       "version_major": 2,
       "version_minor": 0
      },
      "text/plain": [
       "Executing:   0%|          | 0/15 [00:00<?, ?cell/s]"
      ]
     },
     "metadata": {},
     "output_type": "display_data"
    },
    {
     "data": {
      "application/vnd.jupyter.widget-view+json": {
       "model_id": "2f9463399b50486db2fcb017e76b7f29",
       "version_major": 2,
       "version_minor": 0
      },
      "text/plain": [
       "Executing:   0%|          | 0/15 [00:00<?, ?cell/s]"
      ]
     },
     "metadata": {},
     "output_type": "display_data"
    },
    {
     "data": {
      "application/vnd.jupyter.widget-view+json": {
       "model_id": "2030540716fc4775b25484f7b9719b1b",
       "version_major": 2,
       "version_minor": 0
      },
      "text/plain": [
       "Executing:   0%|          | 0/15 [00:00<?, ?cell/s]"
      ]
     },
     "metadata": {},
     "output_type": "display_data"
    }
   ],
   "source": [
    "params_list = [\n",
    "    {'rule_name': 'ATBEG', 'param_overbooking': 3},\n",
    "    {'rule_name': 'ATBEG', 'param_overbooking': 5},\n",
    "    {'rule_name': 'ATBEG', 'param_overbooking': 6}\n",
    "]\n",
    "\n",
    "for params in params_list:\n",
    "    output_notebook = f'output_pm_nb.ipynb'\n",
    "    pm.execute_notebook(\n",
    "        'simulation_process.ipynb', \n",
    "        output_notebook,\n",
    "        parameters=params\n",
    "    )"
   ]
  },
  {
   "cell_type": "code",
   "execution_count": null,
   "metadata": {},
   "outputs": [
    {
     "data": {
      "application/vnd.jupyter.widget-view+json": {
       "model_id": "e064837a9c734f278314831acaafbff5",
       "version_major": 2,
       "version_minor": 0
      },
      "text/plain": [
       "Executing:   0%|          | 0/15 [00:00<?, ?cell/s]"
      ]
     },
     "metadata": {},
     "output_type": "display_data"
    }
   ],
   "source": [
    "params_list = [\n",
    "    {'rule_name': 'ATBEG', 'param_overbooking': 3},\n",
    "    {'rule_name': 'ATBEG', 'param_overbooking': 5},\n",
    "    {'rule_name': 'ATBEG', 'param_overbooking': 6}\n",
    "]\n",
    "\n",
    "for params in params_list:\n",
    "    output_notebook = f'output_pm_nb.ipynb'\n",
    "    pm.execute_notebook(\n",
    "        'simulation_process.ipynb', \n",
    "        output_notebook,\n",
    "        parameters=params\n",
    "    )"
   ]
  }
 ],
 "metadata": {
  "kernelspec": {
   "display_name": "Python 3",
   "language": "python",
   "name": "python3"
  },
  "language_info": {
   "codemirror_mode": {
    "name": "ipython",
    "version": 3
   },
   "file_extension": ".py",
   "mimetype": "text/x-python",
   "name": "python",
   "nbconvert_exporter": "python",
   "pygments_lexer": "ipython3",
   "version": "3.10.5"
  }
 },
 "nbformat": 4,
 "nbformat_minor": 2
}
